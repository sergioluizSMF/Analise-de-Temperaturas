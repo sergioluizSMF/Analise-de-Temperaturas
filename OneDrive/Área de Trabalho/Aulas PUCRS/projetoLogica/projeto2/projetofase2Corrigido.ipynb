{
 "cells": [
  {
   "cell_type": "code",
   "execution_count": 3,
   "metadata": {},
   "outputs": [],
   "source": [
    "# 1- Leitura do arquivo\n",
    "# 2- Vizualização dos dados\n",
    "# 3- Calculando mês menos chuvoso\n",
    "# 4- Calculando a média de temperatura mínima  de um determinado mês\n",
    "# 5- Vizualizando o gráfico em barras"
   ]
  },
  {
   "cell_type": "markdown",
   "metadata": {},
   "source": [
    "VERSÃO DO PYTHON UTILIZADA FOI A 3.10.11"
   ]
  },
  {
   "cell_type": "markdown",
   "metadata": {},
   "source": [
    "1- Leitura do arquivo"
   ]
  },
  {
   "cell_type": "code",
   "execution_count": 4,
   "metadata": {},
   "outputs": [],
   "source": [
    "# Imports\n",
    "# Importando o pandaas para visualização de dados e o datatime para converter os valores de data para datetime\n",
    "import pandas as pd\n",
    "import matplotlib as mat\n",
    "import matplotlib.pyplot as plt\n",
    "import calendar\n",
    "import datetime as dt"
   ]
  },
  {
   "cell_type": "code",
   "execution_count": 5,
   "metadata": {},
   "outputs": [],
   "source": [
    "# Carregando o arquivo em pandas\n",
    "df = pd.read_csv(r'Anexo_Arquivo_Dados_Projeto_Logica_e_programacao_de_computadores.csv')\n"
   ]
  },
  {
   "cell_type": "code",
   "execution_count": 6,
   "metadata": {},
   "outputs": [
    {
     "data": {
      "text/html": [
       "<div>\n",
       "<style scoped>\n",
       "    .dataframe tbody tr th:only-of-type {\n",
       "        vertical-align: middle;\n",
       "    }\n",
       "\n",
       "    .dataframe tbody tr th {\n",
       "        vertical-align: top;\n",
       "    }\n",
       "\n",
       "    .dataframe thead th {\n",
       "        text-align: right;\n",
       "    }\n",
       "</style>\n",
       "<table border=\"1\" class=\"dataframe\">\n",
       "  <thead>\n",
       "    <tr style=\"text-align: right;\">\n",
       "      <th></th>\n",
       "      <th>data</th>\n",
       "      <th>precip</th>\n",
       "      <th>maxima</th>\n",
       "      <th>minima</th>\n",
       "      <th>horas_insol</th>\n",
       "      <th>temp_media</th>\n",
       "      <th>um_relativa</th>\n",
       "      <th>vel_vento</th>\n",
       "    </tr>\n",
       "  </thead>\n",
       "  <tbody>\n",
       "    <tr>\n",
       "      <th>0</th>\n",
       "      <td>01/01/1961</td>\n",
       "      <td>0.0</td>\n",
       "      <td>33.8</td>\n",
       "      <td>22.2</td>\n",
       "      <td>11.7</td>\n",
       "      <td>27.08</td>\n",
       "      <td>67.00</td>\n",
       "      <td>2.333333</td>\n",
       "    </tr>\n",
       "    <tr>\n",
       "      <th>1</th>\n",
       "      <td>02/01/1961</td>\n",
       "      <td>0.0</td>\n",
       "      <td>34.7</td>\n",
       "      <td>22.5</td>\n",
       "      <td>9.5</td>\n",
       "      <td>28.06</td>\n",
       "      <td>62.50</td>\n",
       "      <td>1.333333</td>\n",
       "    </tr>\n",
       "    <tr>\n",
       "      <th>2</th>\n",
       "      <td>03/01/1961</td>\n",
       "      <td>0.2</td>\n",
       "      <td>27.7</td>\n",
       "      <td>23.1</td>\n",
       "      <td>2.3</td>\n",
       "      <td>24.32</td>\n",
       "      <td>74.25</td>\n",
       "      <td>2.000000</td>\n",
       "    </tr>\n",
       "    <tr>\n",
       "      <th>3</th>\n",
       "      <td>04/01/1961</td>\n",
       "      <td>2.4</td>\n",
       "      <td>29.4</td>\n",
       "      <td>20.6</td>\n",
       "      <td>8.7</td>\n",
       "      <td>23.56</td>\n",
       "      <td>57.50</td>\n",
       "      <td>2.333333</td>\n",
       "    </tr>\n",
       "    <tr>\n",
       "      <th>4</th>\n",
       "      <td>05/01/1961</td>\n",
       "      <td>0.0</td>\n",
       "      <td>32.5</td>\n",
       "      <td>18.8</td>\n",
       "      <td>10.1</td>\n",
       "      <td>25.22</td>\n",
       "      <td>63.50</td>\n",
       "      <td>3.666667</td>\n",
       "    </tr>\n",
       "    <tr>\n",
       "      <th>...</th>\n",
       "      <td>...</td>\n",
       "      <td>...</td>\n",
       "      <td>...</td>\n",
       "      <td>...</td>\n",
       "      <td>...</td>\n",
       "      <td>...</td>\n",
       "      <td>...</td>\n",
       "      <td>...</td>\n",
       "    </tr>\n",
       "    <tr>\n",
       "      <th>18558</th>\n",
       "      <td>06/07/2016</td>\n",
       "      <td>21.8</td>\n",
       "      <td>23.3</td>\n",
       "      <td>13.6</td>\n",
       "      <td>1.7</td>\n",
       "      <td>14.96</td>\n",
       "      <td>73.25</td>\n",
       "      <td>4.801440</td>\n",
       "    </tr>\n",
       "    <tr>\n",
       "      <th>18559</th>\n",
       "      <td>07/07/2016</td>\n",
       "      <td>0.0</td>\n",
       "      <td>18.4</td>\n",
       "      <td>9.8</td>\n",
       "      <td>7.6</td>\n",
       "      <td>12.96</td>\n",
       "      <td>73.25</td>\n",
       "      <td>2.915160</td>\n",
       "    </tr>\n",
       "    <tr>\n",
       "      <th>18560</th>\n",
       "      <td>08/07/2016</td>\n",
       "      <td>0.0</td>\n",
       "      <td>19.4</td>\n",
       "      <td>7.6</td>\n",
       "      <td>6.3</td>\n",
       "      <td>12.64</td>\n",
       "      <td>76.25</td>\n",
       "      <td>1.200360</td>\n",
       "    </tr>\n",
       "    <tr>\n",
       "      <th>18561</th>\n",
       "      <td>09/07/2016</td>\n",
       "      <td>0.0</td>\n",
       "      <td>14.2</td>\n",
       "      <td>11.7</td>\n",
       "      <td>0.0</td>\n",
       "      <td>12.66</td>\n",
       "      <td>94.25</td>\n",
       "      <td>1.371840</td>\n",
       "    </tr>\n",
       "    <tr>\n",
       "      <th>18562</th>\n",
       "      <td>10/07/2016</td>\n",
       "      <td>11.8</td>\n",
       "      <td>19.0</td>\n",
       "      <td>11.0</td>\n",
       "      <td>4.5</td>\n",
       "      <td>13.74</td>\n",
       "      <td>86.50</td>\n",
       "      <td>1.543320</td>\n",
       "    </tr>\n",
       "  </tbody>\n",
       "</table>\n",
       "<p>18563 rows × 8 columns</p>\n",
       "</div>"
      ],
      "text/plain": [
       "             data  precip  maxima  minima  horas_insol  temp_media  \\\n",
       "0      01/01/1961     0.0    33.8    22.2         11.7       27.08   \n",
       "1      02/01/1961     0.0    34.7    22.5          9.5       28.06   \n",
       "2      03/01/1961     0.2    27.7    23.1          2.3       24.32   \n",
       "3      04/01/1961     2.4    29.4    20.6          8.7       23.56   \n",
       "4      05/01/1961     0.0    32.5    18.8         10.1       25.22   \n",
       "...           ...     ...     ...     ...          ...         ...   \n",
       "18558  06/07/2016    21.8    23.3    13.6          1.7       14.96   \n",
       "18559  07/07/2016     0.0    18.4     9.8          7.6       12.96   \n",
       "18560  08/07/2016     0.0    19.4     7.6          6.3       12.64   \n",
       "18561  09/07/2016     0.0    14.2    11.7          0.0       12.66   \n",
       "18562  10/07/2016    11.8    19.0    11.0          4.5       13.74   \n",
       "\n",
       "       um_relativa  vel_vento  \n",
       "0            67.00   2.333333  \n",
       "1            62.50   1.333333  \n",
       "2            74.25   2.000000  \n",
       "3            57.50   2.333333  \n",
       "4            63.50   3.666667  \n",
       "...            ...        ...  \n",
       "18558        73.25   4.801440  \n",
       "18559        73.25   2.915160  \n",
       "18560        76.25   1.200360  \n",
       "18561        94.25   1.371840  \n",
       "18562        86.50   1.543320  \n",
       "\n",
       "[18563 rows x 8 columns]"
      ]
     },
     "execution_count": 6,
     "metadata": {},
     "output_type": "execute_result"
    }
   ],
   "source": [
    "# Imprimindo os valores iniciais e finais do dataframe\n",
    "df"
   ]
  },
  {
   "cell_type": "code",
   "execution_count": 7,
   "metadata": {},
   "outputs": [
    {
     "data": {
      "text/plain": [
       "data           0\n",
       "precip         0\n",
       "maxima         0\n",
       "minima         0\n",
       "horas_insol    0\n",
       "temp_media     0\n",
       "um_relativa    0\n",
       "vel_vento      0\n",
       "dtype: int64"
      ]
     },
     "execution_count": 7,
     "metadata": {},
     "output_type": "execute_result"
    }
   ],
   "source": [
    "# Checando valores nulos\n",
    "df.isnull().sum()"
   ]
  },
  {
   "cell_type": "code",
   "execution_count": 8,
   "metadata": {},
   "outputs": [
    {
     "data": {
      "text/plain": [
       "data            object\n",
       "precip         float64\n",
       "maxima         float64\n",
       "minima         float64\n",
       "horas_insol    float64\n",
       "temp_media     float64\n",
       "um_relativa    float64\n",
       "vel_vento      float64\n",
       "dtype: object"
      ]
     },
     "execution_count": 8,
     "metadata": {},
     "output_type": "execute_result"
    }
   ],
   "source": [
    "# Checando o tipo de valores\n",
    "df.dtypes"
   ]
  },
  {
   "cell_type": "code",
   "execution_count": 9,
   "metadata": {},
   "outputs": [
    {
     "name": "stderr",
     "output_type": "stream",
     "text": [
      "C:\\Users\\Sergio\\AppData\\Local\\Temp\\ipykernel_12264\\4280479766.py:2: UserWarning: Parsing dates in DD/MM/YYYY format when dayfirst=False (the default) was specified. This may lead to inconsistently parsed dates! Specify a format to ensure consistent parsing.\n",
      "  df['data'] = pd.to_datetime(df['data'])\n"
     ]
    }
   ],
   "source": [
    "# Convertendo a coluna de datas do dataframe para o tipo DateTime para facilitar a manipulação\n",
    "df['data'] = pd.to_datetime(df['data'])"
   ]
  },
  {
   "cell_type": "code",
   "execution_count": 10,
   "metadata": {},
   "outputs": [
    {
     "data": {
      "text/html": [
       "<div>\n",
       "<style scoped>\n",
       "    .dataframe tbody tr th:only-of-type {\n",
       "        vertical-align: middle;\n",
       "    }\n",
       "\n",
       "    .dataframe tbody tr th {\n",
       "        vertical-align: top;\n",
       "    }\n",
       "\n",
       "    .dataframe thead th {\n",
       "        text-align: right;\n",
       "    }\n",
       "</style>\n",
       "<table border=\"1\" class=\"dataframe\">\n",
       "  <thead>\n",
       "    <tr style=\"text-align: right;\">\n",
       "      <th></th>\n",
       "      <th>data</th>\n",
       "      <th>precip</th>\n",
       "      <th>maxima</th>\n",
       "      <th>minima</th>\n",
       "      <th>horas_insol</th>\n",
       "      <th>temp_media</th>\n",
       "      <th>um_relativa</th>\n",
       "      <th>vel_vento</th>\n",
       "    </tr>\n",
       "  </thead>\n",
       "  <tbody>\n",
       "    <tr>\n",
       "      <th>0</th>\n",
       "      <td>1961-01-01</td>\n",
       "      <td>0.0</td>\n",
       "      <td>33.8</td>\n",
       "      <td>22.2</td>\n",
       "      <td>11.7</td>\n",
       "      <td>27.08</td>\n",
       "      <td>67.00</td>\n",
       "      <td>2.333333</td>\n",
       "    </tr>\n",
       "    <tr>\n",
       "      <th>1</th>\n",
       "      <td>1961-02-01</td>\n",
       "      <td>0.0</td>\n",
       "      <td>34.7</td>\n",
       "      <td>22.5</td>\n",
       "      <td>9.5</td>\n",
       "      <td>28.06</td>\n",
       "      <td>62.50</td>\n",
       "      <td>1.333333</td>\n",
       "    </tr>\n",
       "    <tr>\n",
       "      <th>2</th>\n",
       "      <td>1961-03-01</td>\n",
       "      <td>0.2</td>\n",
       "      <td>27.7</td>\n",
       "      <td>23.1</td>\n",
       "      <td>2.3</td>\n",
       "      <td>24.32</td>\n",
       "      <td>74.25</td>\n",
       "      <td>2.000000</td>\n",
       "    </tr>\n",
       "    <tr>\n",
       "      <th>3</th>\n",
       "      <td>1961-04-01</td>\n",
       "      <td>2.4</td>\n",
       "      <td>29.4</td>\n",
       "      <td>20.6</td>\n",
       "      <td>8.7</td>\n",
       "      <td>23.56</td>\n",
       "      <td>57.50</td>\n",
       "      <td>2.333333</td>\n",
       "    </tr>\n",
       "    <tr>\n",
       "      <th>4</th>\n",
       "      <td>1961-05-01</td>\n",
       "      <td>0.0</td>\n",
       "      <td>32.5</td>\n",
       "      <td>18.8</td>\n",
       "      <td>10.1</td>\n",
       "      <td>25.22</td>\n",
       "      <td>63.50</td>\n",
       "      <td>3.666667</td>\n",
       "    </tr>\n",
       "    <tr>\n",
       "      <th>...</th>\n",
       "      <td>...</td>\n",
       "      <td>...</td>\n",
       "      <td>...</td>\n",
       "      <td>...</td>\n",
       "      <td>...</td>\n",
       "      <td>...</td>\n",
       "      <td>...</td>\n",
       "      <td>...</td>\n",
       "    </tr>\n",
       "    <tr>\n",
       "      <th>18558</th>\n",
       "      <td>2016-06-07</td>\n",
       "      <td>21.8</td>\n",
       "      <td>23.3</td>\n",
       "      <td>13.6</td>\n",
       "      <td>1.7</td>\n",
       "      <td>14.96</td>\n",
       "      <td>73.25</td>\n",
       "      <td>4.801440</td>\n",
       "    </tr>\n",
       "    <tr>\n",
       "      <th>18559</th>\n",
       "      <td>2016-07-07</td>\n",
       "      <td>0.0</td>\n",
       "      <td>18.4</td>\n",
       "      <td>9.8</td>\n",
       "      <td>7.6</td>\n",
       "      <td>12.96</td>\n",
       "      <td>73.25</td>\n",
       "      <td>2.915160</td>\n",
       "    </tr>\n",
       "    <tr>\n",
       "      <th>18560</th>\n",
       "      <td>2016-08-07</td>\n",
       "      <td>0.0</td>\n",
       "      <td>19.4</td>\n",
       "      <td>7.6</td>\n",
       "      <td>6.3</td>\n",
       "      <td>12.64</td>\n",
       "      <td>76.25</td>\n",
       "      <td>1.200360</td>\n",
       "    </tr>\n",
       "    <tr>\n",
       "      <th>18561</th>\n",
       "      <td>2016-09-07</td>\n",
       "      <td>0.0</td>\n",
       "      <td>14.2</td>\n",
       "      <td>11.7</td>\n",
       "      <td>0.0</td>\n",
       "      <td>12.66</td>\n",
       "      <td>94.25</td>\n",
       "      <td>1.371840</td>\n",
       "    </tr>\n",
       "    <tr>\n",
       "      <th>18562</th>\n",
       "      <td>2016-10-07</td>\n",
       "      <td>11.8</td>\n",
       "      <td>19.0</td>\n",
       "      <td>11.0</td>\n",
       "      <td>4.5</td>\n",
       "      <td>13.74</td>\n",
       "      <td>86.50</td>\n",
       "      <td>1.543320</td>\n",
       "    </tr>\n",
       "  </tbody>\n",
       "</table>\n",
       "<p>18563 rows × 8 columns</p>\n",
       "</div>"
      ],
      "text/plain": [
       "            data  precip  maxima  minima  horas_insol  temp_media  \\\n",
       "0     1961-01-01     0.0    33.8    22.2         11.7       27.08   \n",
       "1     1961-02-01     0.0    34.7    22.5          9.5       28.06   \n",
       "2     1961-03-01     0.2    27.7    23.1          2.3       24.32   \n",
       "3     1961-04-01     2.4    29.4    20.6          8.7       23.56   \n",
       "4     1961-05-01     0.0    32.5    18.8         10.1       25.22   \n",
       "...          ...     ...     ...     ...          ...         ...   \n",
       "18558 2016-06-07    21.8    23.3    13.6          1.7       14.96   \n",
       "18559 2016-07-07     0.0    18.4     9.8          7.6       12.96   \n",
       "18560 2016-08-07     0.0    19.4     7.6          6.3       12.64   \n",
       "18561 2016-09-07     0.0    14.2    11.7          0.0       12.66   \n",
       "18562 2016-10-07    11.8    19.0    11.0          4.5       13.74   \n",
       "\n",
       "       um_relativa  vel_vento  \n",
       "0            67.00   2.333333  \n",
       "1            62.50   1.333333  \n",
       "2            74.25   2.000000  \n",
       "3            57.50   2.333333  \n",
       "4            63.50   3.666667  \n",
       "...            ...        ...  \n",
       "18558        73.25   4.801440  \n",
       "18559        73.25   2.915160  \n",
       "18560        76.25   1.200360  \n",
       "18561        94.25   1.371840  \n",
       "18562        86.50   1.543320  \n",
       "\n",
       "[18563 rows x 8 columns]"
      ]
     },
     "execution_count": 10,
     "metadata": {},
     "output_type": "execute_result"
    }
   ],
   "source": [
    "df"
   ]
  },
  {
   "cell_type": "markdown",
   "metadata": {},
   "source": [
    " 2- Vizualização dos dados"
   ]
  },
  {
   "cell_type": "code",
   "execution_count": 11,
   "metadata": {},
   "outputs": [],
   "source": [
    "def visualizar_dados(dataframe):\n",
    "    df['data'] = pd.to_datetime(dataframe['data'])\n",
    "\n",
    "    while True:\n",
    "        try:\n",
    "            # Solicitar entrada do usuário para o período no formato \"dia-mês-ano\"\n",
    "            data_inicial = input(\"Informe o período inicial (dia-mês-ano): \")\n",
    "            data_final = input(\"Informe o período final (dia-mês-ano): \")\n",
    "\n",
    "            # Converter as entradas para objetos de data\n",
    "            data_inicial = pd.to_datetime(data_inicial, format=\"%d/%m/%y\")  # Ajuste aqui\n",
    "            data_final = pd.to_datetime(data_final, format=\"%d/%m/%y\")  # Ajuste aqui\n",
    "\n",
    "            # Validar se a data final é posterior à data inicial\n",
    "            if data_final < data_inicial:\n",
    "                print(\"Erro: A data final deve ser posterior à data inicial.\")\n",
    "                continue  # Volta para o início do loop se as datas forem inválidas\n",
    "\n",
    "            while True:\n",
    "                try:\n",
    "                    tipo_dados = int(input(\"Selecione o tipo de dados a visualizar:\\n\"\n",
    "                                        \"1 - Todos os dados\\n\"\n",
    "                                        \"2 - Precipitação\\n\"\n",
    "                                        \"3 - Temperatura\\n\"\n",
    "                                        \"4 - Umidade e Vento\\n\"))\n",
    "                    # Validando a entrada do usuário\n",
    "                    if tipo_dados not in [1, 2, 3, 4]:\n",
    "                        raise ValueError(\"Opção inválida\")\n",
    "                    \n",
    "                    break  # Sai do loop interno se a entrada do tipo de dados for válida\n",
    "                \n",
    "                except ValueError:\n",
    "                    print(\"Erro: Por favor, escolha uma opção válida (1 a 4).\")\n",
    "                    continue  # Volta para o início do loop interno se a entrada for inválida\n",
    "\n",
    "            # Filtrar os dados com base no período informado\n",
    "            dados_periodo = dataframe[dataframe['data'].between(data_inicial, data_final)]\n",
    "\n",
    "            # Filtrar os dados com base no tipo selecionado\n",
    "            if tipo_dados == 2:\n",
    "                dados_periodo = dados_periodo[['data', 'precip']]\n",
    "            elif tipo_dados == 3:\n",
    "                dados_periodo = dados_periodo[['data', 'temp_media']]\n",
    "            elif tipo_dados == 4:\n",
    "                dados_periodo = dados_periodo[['data', 'um_relativa', 'vel_vento']]\n",
    "\n",
    "            # Exibir os dados\n",
    "            print(dados_periodo)\n",
    "\n",
    "            # Se chegou até aqui, todos os passos foram concluídos com sucesso\n",
    "            print(\"Período selecionado corretamente.\")\n",
    "            break  # Sai do loop principal após um período ser selecionado corretamente\n",
    "\n",
    "        except ValueError as e:\n",
    "            print(f\"Erro: coloque um valor válido ex: 01/02/61 (01/02/1961)\")\n",
    "            print(e)\n",
    "            continue  # Volta para o loop\n"
   ]
  },
  {
   "cell_type": "code",
   "execution_count": 12,
   "metadata": {},
   "outputs": [
    {
     "name": "stdout",
     "output_type": "stream",
     "text": [
      "Erro: coloque um valor válido ex: 01/02/61 (01/02/1961)\n",
      "time data '20052000' does not match format '%d/%m/%y' (match)\n",
      "Erro: coloque um valor válido ex: 01/02/61 (01/02/1961)\n",
      "time data '200203' does not match format '%d/%m/%y' (match)\n",
      "Erro: coloque um valor válido ex: 01/02/61 (01/02/1961)\n",
      "time data '010261' does not match format '%d/%m/%y' (match)\n",
      "            data  precip  maxima  minima  horas_insol  temp_media  \\\n",
      "13269 2002-06-01    14.4    31.2    21.0          8.1       25.88   \n",
      "13270 2002-07-01     0.0    29.4    21.0         11.0       24.90   \n",
      "13271 2002-08-01     0.0    30.6    20.6          9.0       25.00   \n",
      "13272 2002-09-01     0.0    29.9    21.0          7.5       24.90   \n",
      "13273 2002-10-01     0.0    29.6    21.9          7.0       25.30   \n",
      "...          ...     ...     ...     ...          ...         ...   \n",
      "15784 2008-01-12     7.5    28.0    20.6          4.2       23.04   \n",
      "15785 2008-02-12    17.8    25.8    15.9          3.5       19.34   \n",
      "15786 2008-03-12    28.2    22.0    15.3          8.4       18.98   \n",
      "15787 2008-04-12     0.6    24.6    15.7         11.3       19.14   \n",
      "15788 2008-05-12     0.0    24.7    12.8          8.4       18.84   \n",
      "\n",
      "       um_relativa  vel_vento  \n",
      "13269        64.50   1.366667  \n",
      "13270        61.75   2.500000  \n",
      "13271        71.25   1.133333  \n",
      "13272        71.50   3.000000  \n",
      "13273        73.25   3.033333  \n",
      "...            ...        ...  \n",
      "15784        75.25   3.000000  \n",
      "15785        82.25   3.233333  \n",
      "15786        67.75   2.200000  \n",
      "15787        64.50   2.400000  \n",
      "15788        65.75   1.633333  \n",
      "\n",
      "[2187 rows x 8 columns]\n",
      "Período selecionado corretamente.\n"
     ]
    }
   ],
   "source": [
    "visualizar_dados(df)"
   ]
  },
  {
   "cell_type": "markdown",
   "metadata": {},
   "source": [
    "3- Calculando mês menos chuvoso"
   ]
  },
  {
   "cell_type": "markdown",
   "metadata": {},
   "source": [
    "Nessa parte do codigo eu fiz 2 funções uma que descobre o mes menos chuvoso e sua preciptação e em seguida criei outra pra filtra apenas os que tem preciptação maior que 0. Como eu nao sei qual deveria considerar eu deixei as 2 "
   ]
  },
  {
   "cell_type": "code",
   "execution_count": 13,
   "metadata": {},
   "outputs": [
    {
     "name": "stdout",
     "output_type": "stream",
     "text": [
      "Mês menos chuvoso foi: 1, para a data de 1961-01-01 00:00:00, teve a menor Precipitação: 0.0\n"
     ]
    }
   ],
   "source": [
    "def mes_menos_chuvoso(dataframe):\n",
    "    # Obter o índice correspondente à menor precipitação\n",
    "    idx_menor_precipitacao = dataframe['precip'].idxmin()\n",
    "\n",
    "    # Obter a data e precipitação correspondentes ao índice encontrado\n",
    "    data_mes_menos_chuvoso = dataframe.loc[idx_menor_precipitacao, 'data']\n",
    "    precip_menor_chuvoso = dataframe.loc[idx_menor_precipitacao, 'precip']\n",
    "    mes_menos_chuvoso = data_mes_menos_chuvoso.month\n",
    "\n",
    "    # Exibir na tela\n",
    "    print(f\"Mês menos chuvoso foi: {mes_menos_chuvoso}, para a data de {data_mes_menos_chuvoso}, teve a menor Precipitação: {precip_menor_chuvoso}\")\n",
    "\n",
    "# Chamada da função\n",
    "mes_menos_chuvoso(df)\n"
   ]
  },
  {
   "cell_type": "code",
   "execution_count": 14,
   "metadata": {},
   "outputs": [
    {
     "name": "stdout",
     "output_type": "stream",
     "text": [
      "Mês menos chuvoso (com precipitação > 0) foi o mes 1, para o perido de 1961-01-25 00:00:00,e com Precipitação: 0.1\n"
     ]
    }
   ],
   "source": [
    "# Criando uma função que chama os meses que tem a preciptação maior que 0\n",
    "def mes_menos_chuvoso_filtrado(dataframe):\n",
    "    # Filtrar os dados para considerar apenas precipitação maior que 0\n",
    "    dados_com_precipitacao = dataframe[dataframe['precip'] > 0]\n",
    "\n",
    "    # Verificar se há dados após o filtro\n",
    "    if dados_com_precipitacao.empty:\n",
    "        print(\"Não há dados de precipitação maiores que 0.\")\n",
    "        return\n",
    "\n",
    "    # Encontrar o índice do mês/ano com menor precipitação\n",
    "    idx_menor_precipitacao = dados_com_precipitacao['precip'].idxmin()\n",
    "\n",
    "    # Obter o valor da data correspondente ao menor índice de precipitação\n",
    "    data_mes_menos_chuvoso = dados_com_precipitacao.loc[idx_menor_precipitacao, 'data']\n",
    "    mes_menos_chuvoso = data_mes_menos_chuvoso.month\n",
    "\n",
    "    # Exibir na tela\n",
    "    print(f\"Mês menos chuvoso (com precipitação > 0) foi o mes {mes_menos_chuvoso}, para o perido de {data_mes_menos_chuvoso},e com Precipitação: {dados_com_precipitacao.loc[idx_menor_precipitacao, 'precip']}\")\n",
    "\n",
    "# Chamada da função\n",
    "mes_menos_chuvoso_filtrado(df)\n"
   ]
  },
  {
   "cell_type": "markdown",
   "metadata": {},
   "source": [
    "4 - Calculando a média de temperatura mínima  de um determinado mês"
   ]
  },
  {
   "cell_type": "code",
   "execution_count": 15,
   "metadata": {},
   "outputs": [
    {
     "name": "stdout",
     "output_type": "stream",
     "text": [
      "Média da temperatura mínima de 5/2006 a 5/2016: 13.881663516068052\n",
      "Média geral da temperatura mínima para todo o período: 15.65696816247374\n"
     ]
    }
   ],
   "source": [
    "def media_temperatura_minima(dataframe, mes_escolhido):\n",
    "    # Filtrar os dados para o mês escolhido\n",
    "    dados_mes = dataframe[dataframe['data'].dt.month == mes_escolhido]\n",
    "\n",
    "    # Calcular a média da temperatura mínima para o mês escolhido\n",
    "    media_mes_escolhido = dados_mes['minima'].mean()\n",
    "\n",
    "    # Calcular a média geral da temperatura mínima para todo o período\n",
    "    media_geral = dataframe['minima'].mean()\n",
    "\n",
    "    # Exibir na tela\n",
    "    print(f\"Média da temperatura mínima de {mes_escolhido}/{2006} a {mes_escolhido}/{2016}: {media_mes_escolhido}\")\n",
    "    print(f\"Média geral da temperatura mínima para todo o período: {media_geral}\")\n",
    "\n",
    "# Chamada da função\n",
    "mes_escolhido = int(input(\"Informe o número do mês desejado (1 a 12): \"))\n",
    "if mes_escolhido not in range(1,13):\n",
    "    print('Escolha um numero de 1 a 12, que represente cada mês do ano') \n",
    "    \n",
    "media_temperatura_minima(df, mes_escolhido)\n"
   ]
  },
  {
   "cell_type": "markdown",
   "metadata": {},
   "source": [
    "5- Vizualizando o gráfico em barras"
   ]
  },
  {
   "cell_type": "code",
   "execution_count": 16,
   "metadata": {},
   "outputs": [
    {
     "data": {
      "image/png": "[encoded data removed]",
      "text/plain": [
       "<Figure size 1000x800 with 1 Axes>"
      ]
     },
     "metadata": {},
     "output_type": "display_data"
    }
   ],
   "source": [
    "def grafico_barras(dataframe, mes_escolhido):\n",
    "    # Filtrando os dados para o mês escolhido\n",
    "    dados_mes = dataframe[dataframe['data'].dt.month == mes_escolhido]\n",
    "\n",
    "    # Calculando a média da temperatura mínima para cada ano\n",
    "    medias_por_ano = dados_mes.groupby(dataframe['data'].dt.year)['minima'].mean()\n",
    "\n",
    "    # Criar o gráfico de barras\n",
    "    plt.figure(figsize = (10, 8))                                       \n",
    "    plt.bar(medias_por_ano.index, medias_por_ano)\n",
    "    plt.xlabel('Ano')\n",
    "    plt.ylabel('Média de Temperatura Mínima')\n",
    "    plt.title(f'Média de Temperatura Mínima para o Mês {mes_escolhido}')\n",
    "    plt.show()\n",
    "\n",
    "# Chamada da função\n",
    "\n",
    "grafico_barras(df, mes_escolhido)"
   ]
  }
 ],
 "metadata": {
  "kernelspec": {
   "display_name": "Python 3",
   "language": "python",
   "name": "python3"
  },
  "language_info": {
   "codemirror_mode": {
    "name": "ipython",
    "version": 3
   },
   "file_extension": ".py",
   "mimetype": "text/x-python",
   "name": "python",
   "nbconvert_exporter": "python",
   "pygments_lexer": "ipython3",
   "version": "3.10.11"
  }
 },
 "nbformat": 4,
 "nbformat_minor": 2
}
